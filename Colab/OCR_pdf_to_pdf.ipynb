{
  "nbformat": 4,
  "nbformat_minor": 0,
  "metadata": {
    "colab": {
      "provenance": [],
      "mount_file_id": "1q8iBLBLGLVieurzwPsl1NXAUVNfYnc3-",
      "authorship_tag": "ABX9TyOOkohyAE72Fx6U0Z4YRZ37",
      "include_colab_link": true
    },
    "kernelspec": {
      "name": "python3",
      "display_name": "Python 3"
    },
    "language_info": {
      "name": "python"
    }
  },
  "cells": [
    {
      "cell_type": "markdown",
      "metadata": {
        "id": "view-in-github",
        "colab_type": "text"
      },
      "source": [
        "<a href=\"https://colab.research.google.com/github/Sourasky-DHLAB/OCR/blob/main/Colab/OCR_pdf_to_pdf.ipynb\" target=\"_parent\"><img src=\"https://colab.research.google.com/assets/colab-badge.svg\" alt=\"Open In Colab\"/></a>"
      ]
    },
    {
      "cell_type": "markdown",
      "source": [
        "<div style=\"direction:rtl\" dir=\"rtl\">\n",
        "    <img src=\"http://drive.google.com/uc?export=view&id=1FnLVIqEV1Tt5rCEOIk5OxihO6xdZgTMe\"><br>\n",
        "<div style=\"direction:rtl\" dir=\"rtl\">\n",
        "  <p style=\"text-align: right; direction: rtl; float: right;\">    נכתב על ידי <a href=\"mailto:odedzarchia@tauex.tau.ac.il\">עודד זרחיה</a> | <a href=\"https://github.com/Sourasky-DHLAB\">Github</a><br>\n",
        "    <a href=\"https://cenlib.tau.ac.il/\">הספרייה המרכזית ע\"ש סוראסקי</a> | <a href=\"https://tau.ac.il/\">אוניברסיטת תל אביב</a>\n",
        "</div></p>"
      ],
      "metadata": {
        "id": "Zh-NHHpkrH04"
      }
    },
    {
      "cell_type": "markdown",
      "source": [
        "<div dir=\"rtl\">\n",
        "<h1><strong>1. זיהוי תווים אופטי עם OCRmyPDF</strong></h1>\n",
        "<p>\n",
        "<div style=\"direction:rtl\" dir=\"rtl\">\n",
        "  <p style=\"text-align: right; direction: rtl; float: right;\">\n",
        "<a href=\"https://github.com/ocrmypdf/OCRmyPDF\"> OCRmyPDF </a> הוא כלי קוד פתוח המאפשר לבצע זיהוי תווים אופטי (<a href = \"https://en.wikipedia.org/wiki/Optical_character_recognition\">OCR</a>) על מסמכי PDF. תהליך זה הופך את מסמכי ה-PDF לחפישים וניתנים לעריכה.<br><br>\n",
        "OCRmyPDF משתמש במנוע <a href = \"https://github.com/tesseract-ocr/tesseract\">Tesseract OCR</a>, שהוא מנוע OCR מדויק ונפוץ ביותר לזיהוי טקסט בתמונות. מנוע זה תומך ביותר <a href = \"https://tesseract-ocr.github.io/tessdoc/Data-Files-in-different-versions.html\">מ-100 שפות</a>, כולל עברית וערבית, ויכול לטפל בסוגים שונים של מסמכים, כולל מסמכים סרוקים, פקסים ותמונות המכילות אלמנטים טקסטואליים.<br><br>\n",
        "מחברת זו תדריך אתכם בזיהוי תווים אופטי על מסמכי ה-PDF שברשותכם. תוכלו להשתמש במחברת זו כדי לאחסן את קבצי ה-PDF החפישים ב-Google Drive.\n",
        "לתשומת לבכם - השימוש במחברת זו וב-OCRmyPDF חופשי לחלוטין וללא שום עלות. בנוסף, אין הגבלה על אורך או גודל המסמכים שניתן להפוך לחפישים.\n",
        "</p>\n",
        "</div>"
      ],
      "metadata": {
        "id": "a6ZvWt8_rNXY"
      }
    },
    {
      "cell_type": "markdown",
      "source": [
        "<div style=\"direction:rtl\" dir=\"rtl\"><h1><strong>2. התקנת ספריות</strong></h1>\n",
        "<div style=\"direction:rtl\" dir=\"rtl\">\n",
        "  <p style=\"text-align: right; direction: rtl; float: right;\">הריצו את התא הבא כדי להוריד ולהתקין את הספריות הנחוצות לתהליך ה-OCR. בסיום הרצת התא המחברת\n",
        "  תבצע אתחול אוטומטי כדי לסיים את תהליך ההתקנה. במידה ומתקבלת הודעת <code>Your session crashed for an unknown reason</code> בתחתית המסך ניתן להתעלם ולהמשיך להרצת התא הבא.  </p></div>"
      ],
      "metadata": {
        "id": "Bqjj6VIBrwfh"
      }
    },
    {
      "cell_type": "code",
      "source": [
        "# Install packages\n",
        "!apt install tesseract-ocr\n",
        "!apt install ghostscript\n",
        "!pip install ocrmypdf\n",
        "exit()"
      ],
      "metadata": {
        "id": "99mK-q9TscKB"
      },
      "execution_count": null,
      "outputs": []
    },
    {
      "cell_type": "markdown",
      "source": [
        "<div style=\"direction:rtl\" dir=\"rtl\">\n",
        "  <h1><strong>3. ייבוא ספריות </strong></h1>\n",
        "  <div style=\"direction:rtl\" dir=\"rtl\">\n",
        "  <p style=\"text-align: right; direction: rtl; float: right;\">הריצו את התא הבא כדי לייבא את הספריות הנדרשות עבור פעולת ה-OCR.</p>\n",
        "</div>"
      ],
      "metadata": {
        "id": "8g6Y7HHJvJjc"
      }
    },
    {
      "cell_type": "code",
      "source": [
        "# Import libaries\n",
        "import ocrmypdf\n",
        "import os"
      ],
      "metadata": {
        "id": "5dYj-CMuwiUy"
      },
      "execution_count": 1,
      "outputs": []
    },
    {
      "cell_type": "markdown",
      "source": [
        "<h1><strong><div style=\"direction:rtl\" dir=\"rtl\">4. חיבור ל-Google Drive </div></strong></h1>\n",
        "<div style=\"direction:rtl\" dir=\"rtl\">\n",
        "  <p style=\"text-align: right; direction: rtl; float: right;\">הריצו את התא הבא כדי להתחבר ל-Google Drive האישי שלכם. כדי לראות את הקבצים שלכם פתחו את סייר הקבצים בתפריט השמאלי.</p></div>"
      ],
      "metadata": {
        "id": "8DP_y41QvQQi"
      }
    },
    {
      "cell_type": "code",
      "source": [
        "# Mount Google Drive\n",
        "from google.colab import drive\n",
        "drive.mount('/content/drive', force_remount=True)"
      ],
      "metadata": {
        "id": "gzl4IQIFUyqT"
      },
      "execution_count": null,
      "outputs": []
    },
    {
      "cell_type": "markdown",
      "source": [
        "<h1 dir=\"rtl\"><strong>5. הגדרת תיקיות </strong></h1>\n",
        "<div style=\"direction:rtl\" dir=\"rtl\">\n",
        "  <p style=\"text-align: right; direction: rtl; float: right;\">הריצו את התא הבא כדי להגדיר את מיקום מסמכי ה-PDF:<br>\n",
        "    <ol style=\"float:right;\">\n",
        "      <li>קבצי קלט - מחברת זו מניחה כי מסמכי ה-PDF עליהם תרצו לבצע OCR נמצאים ב-Google Drive תחת תיקיית <code>OCR/before_ocr/</code>. ניתן לשנות הגדרה זו במשתנה <code>input_folder</code>.</li>\n",
        "      <li>קבצי פלט - מחברת זו מניחה כי מסמכי ה-PDF החפישים יישמרו ב-Google Drive תחת תיקיית <code>OCR/after_ocr/</code>. ניתן לשנות הגדרה זו במשתנה <code>output_folder</code>. </li>\n",
        "    </ol>\n",
        "  </p>\n",
        "<div style=\"direction:rtl\" dir=\"rtl\">\n",
        "  <p style=\"text-align: right; direction: rtl; float: right;\">במידה והתיקיות אינן קיימות הרצת התא תיצור אותן בצורה אוטומטית.<br>  \n",
        "</div>"
      ],
      "metadata": {
        "id": "9U4ppEewvV3b"
      }
    },
    {
      "cell_type": "code",
      "source": [
        "# Set input and output folders\n",
        "input_folder = '/content/drive/MyDrive/OCR/before_ocr'\n",
        "output_folder = '/content/drive/MyDrive/OCR/after_ocr'\n",
        "\n",
        "# Create input and output folders if they don't exist\n",
        "os.makedirs(input_folder, exist_ok=True)\n",
        "os.makedirs(output_folder, exist_ok=True)"
      ],
      "metadata": {
        "id": "pPnCGxr4VAVl"
      },
      "execution_count": 3,
      "outputs": []
    },
    {
      "cell_type": "markdown",
      "source": [
        "<h1><strong><div style=\"direction:rtl\" dir=\"rtl\">6. הורדת מסמך PDF לדוגמה (אופציונלי)</div></strong></h1>\n",
        "<div style=\"direction:rtl\" dir=\"rtl\">\n",
        "  <p style=\"text-align: right; direction: rtl; float: right;\">הריצו את התא הבא כדי להוריד מסמך PDF לדוגמה. לחילופין, העתיקו את מסמכי ה-PDF שברשותכם אל תיקיית <code>OCR/before_ocr/</code>.</p></div>"
      ],
      "metadata": {
        "id": "xkrbCfxc5d1P"
      }
    },
    {
      "cell_type": "code",
      "source": [
        "!wget -P /content/drive/MyDrive/OCR/before_ocr https://cdn.the7eye.org.il/uploads/2023/04/494c55cf-0dc2-47e6-b0fd-5e54f48a11eb-9900898bb38b49ad9a4c3ac5573960a3_f_1682747123547_original_copy.pdf"
      ],
      "metadata": {
        "id": "VWRFgjVGZc0Z"
      },
      "execution_count": null,
      "outputs": []
    },
    {
      "cell_type": "markdown",
      "source": [
        "<h1><strong><div style=\"direction:rtl\" dir=\"rtl\">7. טעינת מסמכי PDF ל-OCR </div></h1></strong>\n",
        "<div style=\"direction:rtl\" dir=\"rtl\">\n",
        "  <p style=\"text-align: right; direction: rtl; float: right;\">\n",
        "הריצו את התא הבא כדי לטעון את מסמכי ה-PDF הנמצאים בתיקיית <code>OCR/before_ocr/</code> לתוך משתנה מסוג <a href=\"https://he.wikipedia.org/wiki/%D7%A8%D7%A9%D7%99%D7%9E%D7%94_(%D7%9E%D7%91%D7%A0%D7%94_%D7%A0%D7%AA%D7%95%D7%A0%D7%99%D7%9D)\">רשימה</a> (list). הפלט יציג את שמות וכמות הקבצים לזיהוי תווים אופטי.</p>"
      ],
      "metadata": {
        "id": "yC3ekZz8vruT"
      }
    },
    {
      "cell_type": "code",
      "source": [
        "# List all files in the input folder\n",
        "files = os.listdir(input_folder)\n",
        "for file in files:\n",
        "    print(file)\n",
        "# Display total number of files\n",
        "print(f\"\\033[1m There are {len(files)} PDF files to OCR\")"
      ],
      "metadata": {
        "id": "ICPPldk2aGA9"
      },
      "execution_count": null,
      "outputs": []
    },
    {
      "cell_type": "markdown",
      "source": [
        "<h1><strong><div style=\"direction:rtl\" dir=\"rtl\">8. בחירת שפה</div></h1></strong>\n",
        "<div style=\"direction:rtl\" dir=\"rtl\">\n",
        "  <p style=\"text-align: right; direction: rtl; float: right;\">\n",
        "הריצו את התא הבא כדי לקבוע את שפת המסמך ולהוריד את חבילת השפה המתאימה.<br>\n",
        "ניתן לשנות את פרמטר השפה במשתנה <code>language</code>. הקוד בתא הבא מקבע את השפה העברית (<code>heb</code>). לעיון ברשימת השפות המלאה לחצו <a href = https://tesseract-ocr.github.io/tessdoc/Data-Files-in-different-versions.html\">כאן</a>. במידה והמסמך מכיל יותר משפה אחת, ניתן לשלב בין שתי השפות עם האופרטור <code>+</code>. לדוגמה, הפרמטר עבור זיהוי תווים אופטי בעברית וצרפתית ייראה כך: <code>heb+fr</code>.<br><br>\n",
        "יושם לב כי Tesseract מותקן עם חבילת שפה אנגלית כברירת מחדל. לפיכך, יש להוריד את חבילת השפה הרצויה לפני ביצוע OCR.\n",
        "הקוד בתא הבא מוריד את חבילת השפה העברית. לשינוי חבילת השפה החליפו את פרמטר השפה בשורה השנייה (<code>tesseract-ocr-heb</code>). להורדת חבילת שפה נוספת שכפלו את השורה השנייה ושנו את פרמטר השפה בהתאם.\n",
        "</p>"
      ],
      "metadata": {
        "id": "L1fSn5yf-GJB"
      }
    },
    {
      "cell_type": "code",
      "source": [
        "language = 'heb'\n",
        "!apt-get install tesseract-ocr-heb"
      ],
      "metadata": {
        "id": "GeLpjwu_-OD5"
      },
      "execution_count": null,
      "outputs": []
    },
    {
      "cell_type": "markdown",
      "source": [
        "<h1 id=\"-div-style-direction-rtl-dir-rtl-10-div-\"><strong><div style=\"direction:rtl\" dir=\"rtl\">9. זיהוי תווים אופטי </div></strong></h1>\n",
        "<div style=\"direction:rtl\" dir=\"rtl\">\n",
        "  <p style=\"text-align: right; direction: rtl; float: right;\">\n",
        "הריצו את התא הבא כדי לבצע OCR על מסמכי ה-PDF הנמצאים בתיקיית <code>OCR/before_ocr</code>.\n",
        "קבצי הטקסט יישמרו בתיקיית <code>OCR/after_ocr/</code> תחת שם זהה. </p>"
      ],
      "metadata": {
        "id": "mu24IVmoNMBL"
      }
    },
    {
      "cell_type": "code",
      "source": [
        "# Perform OCR on each file\n",
        "for file in files:\n",
        "    file_path = os.path.join(input_folder, file)\n",
        "    output_file = os.path.join(output_folder, file)\n",
        "    ocrmypdf.ocr(file_path, output_file, l = language, deskew = True, force_ocr=True)\n",
        "    print(f\"OCR completed for file: {file}\")"
      ],
      "metadata": {
        "id": "RoVZO_Wiwoy5"
      },
      "execution_count": null,
      "outputs": []
    }
  ]
}